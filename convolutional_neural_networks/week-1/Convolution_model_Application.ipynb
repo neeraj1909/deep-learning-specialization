{
 "cells": [
  {
   "cell_type": "markdown",
   "metadata": {},
   "source": [
    "# Convolutional Neural Networks: Application\n",
    "\n",
    "Welcome to Course 4's second assignment! In this notebook, you will:\n",
    "\n",
    "- Create a mood classifer using the TF Keras Sequential API\n",
    "- Build a ConvNet to identify sign language digits using the TF Keras Functional API\n",
    "\n",
    "**After this assignment you will be able to:**\n",
    "\n",
    "- Build and train a ConvNet in TensorFlow for a __binary__ classification problem\n",
    "- Build and train a ConvNet in TensorFlow for a __multiclass__ classification problem\n",
    "- Explain different use cases for the Sequential and Functional APIs\n",
    "\n",
    "To complete this assignment, you should already be familiar with TensorFlow. If you are not, please refer back to the **TensorFlow Tutorial** of the third week of Course 2 (\"**Improving deep neural networks**\")."
   ]
  },
  {
   "cell_type": "markdown",
   "metadata": {},
   "source": [
    "## Table of Contents\n",
    "\n",
    "- [1 - Packages](#1)\n",
    "    - [1.1 - Load the Data and Split the Data into Train/Test Sets](#1-1)\n",
    "- [2 - Layers in TF Keras](#2)\n",
    "- [3 - The Sequential API](#3)\n",
    "    - [3.1 - Create the Sequential Model](#3-1)\n",
    "        - [Exercise 1 - happyModel](#ex-1)\n",
    "    - [3.2 - Train and Evaluate the Model](#3-2)\n",
    "- [4 - The Functional API](#4)\n",
    "    - [4.1 - Load the SIGNS Dataset](#4-1)\n",
    "    - [4.2 - Split the Data into Train/Test Sets](#4-2)\n",
    "    - [4.3 - Forward Propagation](#4-3)\n",
    "        - [Exercise 2 - convolutional_model](#ex-2)\n",
    "    - [4.4 - Train the Model](#4-4)\n",
    "- [5 - History Object](#5)\n",
    "- [6 - Bibliography](#6)"
   ]
  },
  {
   "cell_type": "markdown",
   "metadata": {},
   "source": [
    "<a name='1'></a>\n",
    "## 1 - Packages\n",
    "\n",
    "As usual, begin by loading in the packages."
   ]
  },
  {
   "cell_type": "code",
   "execution_count": 1,
   "metadata": {},
   "outputs": [],
   "source": [
    "import math\n",
    "import numpy as np\n",
    "import h5py\n",
    "import matplotlib.pyplot as plt\n",
    "from matplotlib.pyplot import imread\n",
    "import scipy\n",
    "from PIL import Image\n",
    "import pandas as pd\n",
    "import tensorflow as tf\n",
    "import tensorflow.keras.layers as tfl\n",
    "from tensorflow.python.framework import ops\n",
    "from cnn_utils import *\n",
    "from test_utils import summary, comparator\n",
    "\n",
    "%matplotlib inline\n",
    "np.random.seed(1)"
   ]
  },
  {
   "cell_type": "markdown",
   "metadata": {},
   "source": [
    "<a name='1-1'></a>\n",
    "### 1.1 - Load the Data and Split the Data into Train/Test Sets\n",
    "\n",
    "You'll be using the Happy House dataset for this part of the assignment, which contains images of peoples' faces. Your task will be to build a ConvNet that determines whether the people in the images are smiling or not -- because they only get to enter the house if they're smiling!  "
   ]
  },
  {
   "cell_type": "code",
   "execution_count": 2,
   "metadata": {},
   "outputs": [
    {
     "name": "stdout",
     "output_type": "stream",
     "text": [
      "number of training examples = 600\n",
      "number of test examples = 150\n",
      "X_train shape: (600, 64, 64, 3)\n",
      "Y_train shape: (600, 1)\n",
      "X_test shape: (150, 64, 64, 3)\n",
      "Y_test shape: (150, 1)\n"
     ]
    }
   ],
   "source": [
    "X_train_orig, Y_train_orig, X_test_orig, Y_test_orig, classes = load_happy_dataset()\n",
    "\n",
    "# Normalize image vectors\n",
    "X_train = X_train_orig/255.\n",
    "X_test = X_test_orig/255.\n",
    "\n",
    "# Reshape\n",
    "Y_train = Y_train_orig.T\n",
    "Y_test = Y_test_orig.T\n",
    "\n",
    "print (\"number of training examples = \" + str(X_train.shape[0]))\n",
    "print (\"number of test examples = \" + str(X_test.shape[0]))\n",
    "print (\"X_train shape: \" + str(X_train.shape))\n",
    "print (\"Y_train shape: \" + str(Y_train.shape))\n",
    "print (\"X_test shape: \" + str(X_test.shape))\n",
    "print (\"Y_test shape: \" + str(Y_test.shape))"
   ]
  },
  {
   "cell_type": "markdown",
   "metadata": {},
   "source": [
    "You can display the images contained in the dataset. Images are **64x64** pixels in RGB format (3 channels)."
   ]
  },
  {
   "cell_type": "code",
   "execution_count": 3,
   "metadata": {},
   "outputs": [
    {
     "data": {
      "image/png": "[encoded data removed]",
      "text/plain": [
       "<Figure size 432x288 with 1 Axes>"
      ]
     },
     "metadata": {
      "needs_background": "light"
     },
     "output_type": "display_data"
    }
   ],
   "source": [
    "index = 124\n",
    "plt.imshow(X_train_orig[index]) #display sample training image\n",
    "plt.show()"
   ]
  },
  {
   "cell_type": "markdown",
   "metadata": {},
   "source": [
    "<a name='2'></a>\n",
    "## 2 - Layers in TF Keras \n",
    "\n",
    "In the previous assignment, you created layers manually in numpy. In TF Keras, you don't have to write code directly to create layers. Rather, TF Keras has pre-defined layers you can use. \n",
    "\n",
    "When you create a layer in TF Keras, you are creating a function that takes some input and transforms it into an output you can reuse later. Nice and easy! "
   ]
  },
  {
   "cell_type": "markdown",
   "metadata": {},
   "source": [
    "<a name='3'></a>\n",
    "## 3 - The Sequential API\n",
    "\n",
    "In the previous assignment, you built helper functions using `numpy` to understand the mechanics behind convolutional neural networks. Most practical applications of deep learning today are built using programming frameworks, which have many built-in functions you can simply call. Keras is a high-level abstraction built on top of TensorFlow, which allows for even more simplified and optimized model creation and training. \n",
    "\n",
    "For the first part of this assignment, you'll create a model using TF Keras' Sequential API, which allows you to build layer by layer, and is ideal for building models where each layer has **exactly one** input tensor and **one** output tensor. \n",
    "\n",
    "As you'll see, using the Sequential API is simple and straightforward, but is only appropriate for simpler, more straightforward tasks. Later in this notebook you'll spend some time building with a more flexible, powerful alternative: the Functional API. \n",
    " "
   ]
  },
  {
   "cell_type": "markdown",
   "metadata": {},
   "source": [
    "<a name='3-1'></a>\n",
    "### 3.1 - Create the Sequential Model\n",
    "\n",
    "As mentioned earlier, the TensorFlow Keras Sequential API can be used to build simple models with layer operations that proceed in a sequential order. \n",
    "\n",
    "You can also add layers incrementally to a Sequential model with the `.add()` method, or remove them using the `.pop()` method, much like you would in a regular Python list.\n",
    "\n",
    "Actually, you can think of a Sequential model as behaving like a list of layers. Like Python lists, Sequential layers are ordered, and the order in which they are specified matters.  If your model is non-linear or contains layers with multiple inputs or outputs, a Sequential model wouldn't be the right choice!\n",
    "\n",
    "For any layer construction in Keras, you'll need to specify the input shape in advance. This is because in Keras, the shape of the weights is based on the shape of the inputs. The weights are only created when the model first sees some input data. Sequential models can be created by passing a list of layers to the Sequential constructor, like you will do in the next assignment.\n",
    "\n",
    "<a name='ex-1'></a>\n",
    "### Exercise 1 - happyModel\n",
    "\n",
    "Implement the `happyModel` function below to build the following model: `ZEROPAD2D -> CONV2D -> BATCHNORM -> RELU -> MAXPOOL -> FLATTEN -> DENSE`. Take help from [tf.keras.layers](https://www.tensorflow.org/api_docs/python/tf/keras/layers) \n",
    "\n",
    "Also, plug in the following parameters for all the steps:\n",
    "\n",
    " - [ZeroPadding2D](https://www.tensorflow.org/api_docs/python/tf/keras/layers/ZeroPadding2D): padding 3, input shape 64 x 64 x 3\n",
    " - [Conv2D](https://www.tensorflow.org/api_docs/python/tf/keras/layers/Conv2D): Use 32 7x7 filters, stride 1\n",
    " - [BatchNormalization](https://www.tensorflow.org/api_docs/python/tf/keras/layers/BatchNormalization): for axis 3\n",
    " - [ReLU](https://www.tensorflow.org/api_docs/python/tf/keras/layers/ReLU)\n",
    " - [MaxPool2D](https://www.tensorflow.org/api_docs/python/tf/keras/layers/MaxPool2D): Using default parameters\n",
    " - [Flatten](https://www.tensorflow.org/api_docs/python/tf/keras/layers/Flatten) the previous output.\n",
    " - Fully-connected ([Dense](https://www.tensorflow.org/api_docs/python/tf/keras/layers/Dense)) layer: Apply a fully connected layer with 1 neuron and a sigmoid activation. \n",
    " \n",
    " \n",
    " **Hint:**\n",
    " \n",
    " Use **tfl** as shorthand for **tensorflow.keras.layers**"
   ]
  },
  {
   "cell_type": "code",
   "execution_count": 14,
   "metadata": {
    "deletable": false,
    "nbgrader": {
     "cell_type": "code",
     "checksum": "95d28b191f257bdd5b70c7b8952559d5",
     "grade": false,
     "grade_id": "cell-0e56d3fc28b69aec",
     "locked": false,
     "schema_version": 3,
     "solution": true,
     "task": false
    }
   },
   "outputs": [],
   "source": [
    "# GRADED FUNCTION: happyModel\n",
    "\n",
    "def happyModel():\n",
    "    \"\"\"\n",
    "    Implements the forward propagation for the binary classification model:\n",
    "    ZEROPAD2D -> CONV2D -> BATCHNORM -> RELU -> MAXPOOL -> FLATTEN -> DENSE\n",
    "    \n",
    "    Note that for simplicity and grading purposes, you'll hard-code all the values\n",
    "    such as the stride and kernel (filter) sizes. \n",
    "    Normally, functions should take these values as function parameters.\n",
    "    \n",
    "    Arguments:\n",
    "    None\n",
    "\n",
    "    Returns:\n",
    "    model -- TF Keras model (object containing the information for the entire training process) \n",
    "    \"\"\"\n",
    "    model = tf.keras.Sequential([\n",
    "            ## ZeroPadding2D with padding 3, input shape of 64 x 64 x 3\n",
    "            tfl.ZeroPadding2D(padding=(3, 3), input_shape=(64, 64, 3)),\n",
    "            ## Conv2D with 32 7x7 filters and stride of 1\n",
    "            tfl.Conv2D(filters=32, kernel_size=(7,7), strides=(1,1)),\n",
    "            # tfl.Conv2D(filters=32, kernel_size=(7,7), strides=(1,1))\n",
    "            ## BatchNormalization for axis 3\n",
    "            tfl.BatchNormalization(axis=-1, momentum=0.99, epsilon=0.001, center=True, scale=True),\n",
    "            ## ReLU\n",
    "            tfl.ReLU(max_value=None, negative_slope=0.0, threshold=0.0),\n",
    "            ## Max Pooling 2D with default parameters\n",
    "            tfl.MaxPool2D(pool_size=(2, 2), strides=None, padding='valid'),\n",
    "            ## Flatten layer\n",
    "            tfl.Flatten(),\n",
    "            ## Dense layer with 1 unit for output & 'sigmoid' activation\n",
    "            tfl.Dense(units=1, activation='sigmoid')\n",
    "        ])\n",
    "    \n",
    "    return model"
   ]
  },
  {
   "cell_type": "code",
   "execution_count": 15,
   "metadata": {
    "deletable": false,
    "editable": false,
    "nbgrader": {
     "cell_type": "code",
     "checksum": "8d3575c950e2e78149be2d05d671c80d",
     "grade": true,
     "grade_id": "cell-e3e1046e5c33d775",
     "locked": true,
     "points": 10,
     "schema_version": 3,
     "solution": false,
     "task": false
    }
   },
   "outputs": [
    {
     "name": "stdout",
     "output_type": "stream",
     "text": [
      "['ZeroPadding2D', (None, 70, 70, 3), 0, ((3, 3), (3, 3))]\n",
      "['Conv2D', (None, 64, 64, 32), 4736, 'valid', 'linear', 'GlorotUniform']\n",
      "['BatchNormalization', (None, 64, 64, 32), 128]\n",
      "['ReLU', (None, 64, 64, 32), 0]\n",
      "['MaxPooling2D', (None, 32, 32, 32), 0, (2, 2), (2, 2), 'valid']\n",
      "['Flatten', (None, 32768), 0]\n",
      "['Dense', (None, 1), 32769, 'sigmoid']\n",
      "\u001b[32mAll tests passed!\u001b[0m\n"
     ]
    }
   ],
   "source": [
    "happy_model = happyModel()\n",
    "# Print a summary for each layer\n",
    "for layer in summary(happy_model):\n",
    "    print(layer)\n",
    "    \n",
    "output = [['ZeroPadding2D', (None, 70, 70, 3), 0, ((3, 3), (3, 3))],\n",
    "            ['Conv2D', (None, 64, 64, 32), 4736, 'valid', 'linear', 'GlorotUniform'],\n",
    "            ['BatchNormalization', (None, 64, 64, 32), 128],\n",
    "            ['ReLU', (None, 64, 64, 32), 0],\n",
    "            ['MaxPooling2D', (None, 32, 32, 32), 0, (2, 2), (2, 2), 'valid'],\n",
    "            ['Flatten', (None, 32768), 0],\n",
    "            ['Dense', (None, 1), 32769, 'sigmoid']]\n",
    "    \n",
    "comparator(summary(happy_model), output)"
   ]
  },
  {
   "cell_type": "markdown",
   "metadata": {},
   "source": [
    "Now that your model is created, you can compile it for training with an optimizer and loss of your choice. When the string `accuracy` is specified as a metric, the type of accuracy used will be automatically converted based on the loss function used. This is one of the many optimizations built into TensorFlow that make your life easier! If you'd like to read more on how the compiler operates, check the docs [here](https://www.tensorflow.org/api_docs/python/tf/keras/Model#compile)."
   ]
  },
  {
   "cell_type": "code",
   "execution_count": 16,
   "metadata": {},
   "outputs": [],
   "source": [
    "happy_model.compile(optimizer='adam',\n",
    "                   loss='binary_crossentropy',\n",
    "                   metrics=['accuracy'])"
   ]
  },
  {
   "cell_type": "markdown",
   "metadata": {},
   "source": [
    "It's time to check your model's parameters with the `.summary()` method. This will display the types of layers you have, the shape of the outputs, and how many parameters are in each layer. "
   ]
  },
  {
   "cell_type": "code",
   "execution_count": 17,
   "metadata": {},
   "outputs": [
    {
     "name": "stdout",
     "output_type": "stream",
     "text": [
      "Model: \"sequential_3\"\n",
      "_________________________________________________________________\n",
      "Layer (type)                 Output Shape              Param #   \n",
      "=================================================================\n",
      "zero_padding2d_3 (ZeroPaddin (None, 70, 70, 3)         0         \n",
      "_________________________________________________________________\n",
      "conv2d_3 (Conv2D)            (None, 64, 64, 32)        4736      \n",
      "_________________________________________________________________\n",
      "batch_normalization_3 (Batch (None, 64, 64, 32)        128       \n",
      "_________________________________________________________________\n",
      "re_lu_3 (ReLU)               (None, 64, 64, 32)        0         \n",
      "_________________________________________________________________\n",
      "max_pooling2d_3 (MaxPooling2 (None, 32, 32, 32)        0         \n",
      "_________________________________________________________________\n",
      "flatten_3 (Flatten)          (None, 32768)             0         \n",
      "_________________________________________________________________\n",
      "dense_3 (Dense)              (None, 1)                 32769     \n",
      "=================================================================\n",
      "Total params: 37,633\n",
      "Trainable params: 37,569\n",
      "Non-trainable params: 64\n",
      "_________________________________________________________________\n"
     ]
    }
   ],
   "source": [
    "happy_model.summary()"
   ]
  },
  {
   "cell_type": "markdown",
   "metadata": {},
   "source": [
    "<a name='3-2'></a>\n",
    "### 3.2 - Train and Evaluate the Model\n",
    "\n",
    "After creating the model, compiling it with your choice of optimizer and loss function, and doing a sanity check on its contents, you are now ready to build! \n",
    "\n",
    "Simply call `.fit()` to train. That's it! No need for mini-batching, saving, or complex backpropagation computations. That's all been done for you, as you're using a TensorFlow dataset with the batches specified already. You do have the option to specify epoch number or minibatch size if you like (for example, in the case of an un-batched dataset)."
   ]
  },
  {
   "cell_type": "code",
   "execution_count": 18,
   "metadata": {},
   "outputs": [
    {
     "name": "stdout",
     "output_type": "stream",
     "text": [
      "Epoch 1/10\n",
      "38/38 [==============================] - 4s 100ms/step - loss: 1.9001 - accuracy: 0.6367\n",
      "Epoch 2/10\n",
      "38/38 [==============================] - 4s 103ms/step - loss: 0.3364 - accuracy: 0.8833\n",
      "Epoch 3/10\n",
      "38/38 [==============================] - 4s 95ms/step - loss: 0.1651 - accuracy: 0.9350\n",
      "Epoch 4/10\n",
      "38/38 [==============================] - 3s 92ms/step - loss: 0.1404 - accuracy: 0.9417\n",
      "Epoch 5/10\n",
      "38/38 [==============================] - 4s 103ms/step - loss: 0.1015 - accuracy: 0.9617\n",
      "Epoch 6/10\n",
      "38/38 [==============================] - 4s 106ms/step - loss: 0.2149 - accuracy: 0.9300\n",
      "Epoch 7/10\n",
      "38/38 [==============================] - 4s 92ms/step - loss: 0.2095 - accuracy: 0.9250\n",
      "Epoch 8/10\n",
      "38/38 [==============================] - 4s 98ms/step - loss: 0.0997 - accuracy: 0.9633\n",
      "Epoch 9/10\n",
      "38/38 [==============================] - 4s 100ms/step - loss: 0.1102 - accuracy: 0.9617\n",
      "Epoch 10/10\n",
      "38/38 [==============================] - 4s 102ms/step - loss: 0.0980 - accuracy: 0.9700\n"
     ]
    },
    {
     "data": {
      "text/plain": [
       "<tensorflow.python.keras.callbacks.History at 0x7f2684516290>"
      ]
     },
     "execution_count": 18,
     "metadata": {},
     "output_type": "execute_result"
    }
   ],
   "source": [
    "happy_model.fit(X_train, Y_train, epochs=10, batch_size=16)"
   ]
  },
  {
   "cell_type": "markdown",
   "metadata": {},
   "source": [
    "After that completes, just use `.evaluate()` to evaluate against your test set. This function will print the value of the loss function and the performance metrics specified during the compilation of the model. In this case, the `binary_crossentropy` and the `accuracy` respectively."
   ]
  },
  {
   "cell_type": "code",
   "execution_count": 19,
   "metadata": {},
   "outputs": [
    {
     "name": "stdout",
     "output_type": "stream",
     "text": [
      "5/5 [==============================] - 0s 31ms/step - loss: 0.1200 - accuracy: 0.9400\n"
     ]
    },
    {
     "data": {
      "text/plain": [
       "[0.12004484981298447, 0.9399999976158142]"
      ]
     },
     "execution_count": 19,
     "metadata": {},
     "output_type": "execute_result"
    }
   ],
   "source": [
    "happy_model.evaluate(X_test, Y_test)"
   ]
  },
  {
   "cell_type": "markdown",
   "metadata": {},
   "source": [
    "Easy, right? But what if you need to build a model with shared layers, branches, or multiple inputs and outputs? This is where Sequential, with its beautifully simple yet limited functionality, won't be able to help you. \n",
    "\n",
    "Next up: Enter the Functional API, your slightly more complex, highly flexible friend.  "
   ]
  },
  {
   "cell_type": "markdown",
   "metadata": {},
   "source": [
    "<a name='4'></a>\n",
    "## 4 - The Functional API"
   ]
  },
  {
   "cell_type": "markdown",
   "metadata": {},
   "source": [
    "Welcome to the second half of the assignment, where you'll use Keras' flexible [Functional API](https://www.tensorflow.org/guide/keras/functional) to build a ConvNet that can differentiate between 6 sign language digits. \n",
    "\n",
    "The Functional API can handle models with non-linear topology, shared layers, as well as layers with multiple inputs or outputs. Imagine that, where the Sequential API requires the model to move in a linear fashion through its layers, the Functional API allows much more flexibility. Where Sequential is a straight line, a Functional model is a graph, where the nodes of the layers can connect in many more ways than one. \n",
    "\n",
    "In the visual example below, the one possible direction of the movement Sequential model is shown in contrast to a skip connection, which is just one of the many ways a Functional model can be constructed. A skip connection, as you might have guessed, skips some layer in the network and feeds the output to a later layer in the network. Don't worry, you'll be spending more time with skip connections very soon! "
   ]
  },
  {
   "cell_type": "markdown",
   "metadata": {},
   "source": [
    "<img src=\"images/seq_vs_func.png\" style=\"width:350px;height:200px;\">"
   ]
  },
  {
   "cell_type": "markdown",
   "metadata": {},
   "source": [
    "<a name='4-1'></a>\n",
    "### 4.1 - Load the SIGNS Dataset\n",
    "\n",
    "As a reminder, the SIGNS dataset is a collection of 6 signs representing numbers from 0 to 5."
   ]
  },
  {
   "cell_type": "code",
   "execution_count": 20,
   "metadata": {},
   "outputs": [],
   "source": [
    "# Loading the data (signs)\n",
    "X_train_orig, Y_train_orig, X_test_orig, Y_test_orig, classes = load_signs_dataset()"
   ]
  },
  {
   "cell_type": "markdown",
   "metadata": {},
   "source": [
    "<img src=\"images/SIGNS.png\" style=\"width:800px;height:300px;\">\n",
    "\n",
    "The next cell will show you an example of a labelled image in the dataset. Feel free to change the value of `index` below and re-run to see different examples. "
   ]
  },
  {
   "cell_type": "code",
   "execution_count": 21,
   "metadata": {},
   "outputs": [
    {
     "name": "stdout",
     "output_type": "stream",
     "text": [
      "y = 4\n"
     ]
    },
    {
     "data": {
      "image/png": "[encoded data removed]",
      "text/plain": [
       "<Figure size 432x288 with 1 Axes>"
      ]
     },
     "metadata": {
      "needs_background": "light"
     },
     "output_type": "display_data"
    }
   ],
   "source": [
    "# Example of an image from the dataset\n",
    "index = 9\n",
    "plt.imshow(X_train_orig[index])\n",
    "print (\"y = \" + str(np.squeeze(Y_train_orig[:, index])))"
   ]
  },
  {
   "cell_type": "markdown",
   "metadata": {},
   "source": [
    "<a name='4-2'></a>\n",
    "### 4.2 - Split the Data into Train/Test Sets\n",
    "\n",
    "In Course 2, you built a fully-connected network for this dataset. But since this is an image dataset, it is more natural to apply a ConvNet to it.\n",
    "\n",
    "To get started, let's examine the shapes of your data. "
   ]
  },
  {
   "cell_type": "code",
   "execution_count": 22,
   "metadata": {},
   "outputs": [
    {
     "name": "stdout",
     "output_type": "stream",
     "text": [
      "number of training examples = 1080\n",
      "number of test examples = 120\n",
      "X_train shape: (1080, 64, 64, 3)\n",
      "Y_train shape: (1080, 6)\n",
      "X_test shape: (120, 64, 64, 3)\n",
      "Y_test shape: (120, 6)\n"
     ]
    }
   ],
   "source": [
    "X_train = X_train_orig/255.\n",
    "X_test = X_test_orig/255.\n",
    "Y_train = convert_to_one_hot(Y_train_orig, 6).T\n",
    "Y_test = convert_to_one_hot(Y_test_orig, 6).T\n",
    "print (\"number of training examples = \" + str(X_train.shape[0]))\n",
    "print (\"number of test examples = \" + str(X_test.shape[0]))\n",
    "print (\"X_train shape: \" + str(X_train.shape))\n",
    "print (\"Y_train shape: \" + str(Y_train.shape))\n",
    "print (\"X_test shape: \" + str(X_test.shape))\n",
    "print (\"Y_test shape: \" + str(Y_test.shape))"
   ]
  },
  {
   "cell_type": "markdown",
   "metadata": {},
   "source": [
    "<a name='4-3'></a>\n",
    "### 4.3 - Forward Propagation\n",
    "\n",
    "In TensorFlow, there are built-in functions that implement the convolution steps for you. By now, you should be familiar with how TensorFlow builds computational graphs. In the [Functional API](https://www.tensorflow.org/guide/keras/functional), you create a graph of layers. This is what allows such great flexibility.\n",
    "\n",
    "However, the following model could also be defined using the Sequential API since the information flow is on a single line. But don't deviate. What we want you to learn is to use the functional API.\n",
    "\n",
    "Begin building your graph of layers by creating an input node that functions as a callable object:\n",
    "\n",
    "- **input_img = tf.keras.Input(shape=input_shape):** \n",
    "\n",
    "Then, create a new node in the graph of layers by calling a layer on the `input_img` object: \n",
    "\n",
    "- **tf.keras.layers.Conv2D(filters= ... , kernel_size= ... , padding='same')(input_img):** Read the full documentation on [Conv2D](https://www.tensorflow.org/api_docs/python/tf/keras/layers/Conv2D).\n",
    "\n",
    "- **tf.keras.layers.MaxPool2D(pool_size=(f, f), strides=(s, s), padding='same'):** `MaxPool2D()` downsamples your input using a window of size (f, f) and strides of size (s, s) to carry out max pooling over each window.  For max pooling, you usually operate on a single example at a time and a single channel at a time. Read the full documentation on [MaxPool2D](https://www.tensorflow.org/api_docs/python/tf/keras/layers/MaxPool2D).\n",
    "\n",
    "- **tf.keras.layers.ReLU():** computes the elementwise ReLU of Z (which can be any shape). You can read the full documentation on [ReLU](https://www.tensorflow.org/api_docs/python/tf/keras/layers/ReLU).\n",
    "\n",
    "- **tf.keras.layers.Flatten()**: given a tensor \"P\", this function takes each training (or test) example in the batch and flattens it into a 1D vector.  \n",
    "\n",
    "    * If a tensor P has the shape (batch_size,h,w,c), it returns a flattened tensor with shape (batch_size, k), where $k=h \\times w \\times c$.  \"k\" equals the product of all the dimension sizes other than the first dimension.\n",
    "    \n",
    "    * For example, given a tensor with dimensions [100, 2, 3, 4], it flattens the tensor to be of shape [100, 24], where 24 = 2 * 3 * 4.  You can read the full documentation on [Flatten](https://www.tensorflow.org/api_docs/python/tf/keras/layers/Flatten).\n",
    "\n",
    "- **tf.keras.layers.Dense(units= ... , activation='softmax')(F):** given the flattened input F, it returns the output computed using a fully connected layer. You can read the full documentation on [Dense](https://www.tensorflow.org/api_docs/python/tf/keras/layers/Dense).\n",
    "\n",
    "In the last function above (`tf.keras.layers.Dense()`), the fully connected layer automatically initializes weights in the graph and keeps on training them as you train the model. Hence, you did not need to initialize those weights when initializing the parameters.\n",
    "\n",
    "Lastly, before creating the model, you'll need to define the output using the last of the function's compositions (in this example, a Dense layer): \n",
    "\n",
    "- **outputs = tf.keras.layers.Dense(units=6, activation='softmax')(F)**\n",
    "\n",
    "\n",
    "#### Window, kernel, filter, pool\n",
    "\n",
    "The words \"kernel\" and \"filter\" are used to refer to the same thing. The word \"filter\" accounts for the amount of \"kernels\" that will be used in a single convolution layer. \"Pool\" is the name of the operation that takes the max or average value of the kernels. \n",
    "\n",
    "This is why the parameter `pool_size` refers to `kernel_size`, and you use `(f,f)` to refer to the filter size. \n",
    "\n",
    "Pool size and kernel size refer to the same thing in different objects - They refer to the shape of the window where the operation takes place. "
   ]
  },
  {
   "cell_type": "markdown",
   "metadata": {},
   "source": [
    "<a name='ex-2'></a>\n",
    "### Exercise 2 - convolutional_model\n",
    "\n",
    "Implement the `convolutional_model` function below to build the following model: `CONV2D -> RELU -> MAXPOOL -> CONV2D -> RELU -> MAXPOOL -> FLATTEN -> DENSE`. Use the functions above! \n",
    "\n",
    "Also, plug in the following parameters for all the steps:\n",
    "\n",
    " - [Conv2D](https://www.tensorflow.org/api_docs/python/tf/keras/layers/Conv2D): Use 8 4 by 4 filters, stride 1, padding is \"SAME\"\n",
    " - [ReLU](https://www.tensorflow.org/api_docs/python/tf/keras/layers/ReLU)\n",
    " - [MaxPool2D](https://www.tensorflow.org/api_docs/python/tf/keras/layers/MaxPool2D): Use an 8 by 8 filter size and an 8 by 8 stride, padding is \"SAME\"\n",
    " - **Conv2D**: Use 16 2 by 2 filters, stride 1, padding is \"SAME\"\n",
    " - **ReLU**\n",
    " - **MaxPool2D**: Use a 4 by 4 filter size and a 4 by 4 stride, padding is \"SAME\"\n",
    " - [Flatten](https://www.tensorflow.org/api_docs/python/tf/keras/layers/Flatten) the previous output.\n",
    " - Fully-connected ([Dense](https://www.tensorflow.org/api_docs/python/tf/keras/layers/Dense)) layer: Apply a fully connected layer with 6 neurons and a softmax activation. "
   ]
  },
  {
   "cell_type": "code",
   "execution_count": 23,
   "metadata": {
    "deletable": false,
    "nbgrader": {
     "cell_type": "code",
     "checksum": "f58643806aa8380c96225fc8b4c5e7aa",
     "grade": false,
     "grade_id": "cell-dac51744a9e03f51",
     "locked": false,
     "schema_version": 3,
     "solution": true,
     "task": false
    }
   },
   "outputs": [],
   "source": [
    "# GRADED FUNCTION: convolutional_model\n",
    "\n",
    "def convolutional_model(input_shape):\n",
    "    \"\"\"\n",
    "    Implements the forward propagation for the model:\n",
    "    CONV2D -> RELU -> MAXPOOL -> CONV2D -> RELU -> MAXPOOL -> FLATTEN -> DENSE\n",
    "    \n",
    "    Note that for simplicity and grading purposes, you'll hard-code some values\n",
    "    such as the stride and kernel (filter) sizes. \n",
    "    Normally, functions should take these values as function parameters.\n",
    "    \n",
    "    Arguments:\n",
    "    input_img -- input dataset, of shape (input_shape)\n",
    "\n",
    "    Returns:\n",
    "    model -- TF Keras model (object containing the information for the entire training process) \n",
    "    \"\"\"\n",
    "\n",
    "    input_img = tf.keras.Input(shape=input_shape)\n",
    "    ## CONV2D: 8 filters 4x4, stride of 1, padding 'SAME'\n",
    "    Z1 = tfl.Conv2D(filters = 8, kernel_size = (4, 4), strides = 1, padding='same')(input_img)\n",
    "    ## RELU\n",
    "    A1 = tfl.ReLU()(Z1)\n",
    "    ## MAXPOOL: window 8x8, stride 8, padding 'SAME'\n",
    "    P1 = tfl.MaxPool2D(pool_size=(8, 8), strides=(8, 8), padding='same')(A1)\n",
    "    ## CONV2D: 16 filters 2x2, stride 1, padding 'SAME'\n",
    "    Z2 = tfl.Conv2D(filters = 16, kernel_size = (2, 2), strides = 1, padding='same')(P1)\n",
    "    ## RELU\n",
    "    A2 = tfl.ReLU()(Z2)\n",
    "    ## MAXPOOL: window 4x4, stride 4, padding 'SAME'\n",
    "    P2 = tfl.MaxPool2D(pool_size=(4, 4), strides=(4, 4), padding='same')(A2)\n",
    "    ## FLATTEN\n",
    "    F = tfl.Flatten()(P2)\n",
    "    ## Dense layer\n",
    "    ## 6 neurons in output layer. Hint: one of the arguments should be \"activation='softmax'\" \n",
    "    outputs = tfl.Dense(units=6, activation='softmax')(F)\n",
    "    \n",
    "    model = tf.keras.Model(inputs=input_img, outputs=outputs)\n",
    "    return model"
   ]
  },
  {
   "cell_type": "code",
   "execution_count": 24,
   "metadata": {
    "deletable": false,
    "editable": false,
    "nbgrader": {
     "cell_type": "code",
     "checksum": "483d626949930a0b0ef20997e7c6ba72",
     "grade": true,
     "grade_id": "cell-45d22e92042174c9",
     "locked": true,
     "points": 10,
     "schema_version": 3,
     "solution": false,
     "task": false
    }
   },
   "outputs": [
    {
     "name": "stdout",
     "output_type": "stream",
     "text": [
      "Model: \"functional_1\"\n",
      "_________________________________________________________________\n",
      "Layer (type)                 Output Shape              Param #   \n",
      "=================================================================\n",
      "input_1 (InputLayer)         [(None, 64, 64, 3)]       0         \n",
      "_________________________________________________________________\n",
      "conv2d_4 (Conv2D)            (None, 64, 64, 8)         392       \n",
      "_________________________________________________________________\n",
      "re_lu_4 (ReLU)               (None, 64, 64, 8)         0         \n",
      "_________________________________________________________________\n",
      "max_pooling2d_4 (MaxPooling2 (None, 8, 8, 8)           0         \n",
      "_________________________________________________________________\n",
      "conv2d_5 (Conv2D)            (None, 8, 8, 16)          528       \n",
      "_________________________________________________________________\n",
      "re_lu_5 (ReLU)               (None, 8, 8, 16)          0         \n",
      "_________________________________________________________________\n",
      "max_pooling2d_5 (MaxPooling2 (None, 2, 2, 16)          0         \n",
      "_________________________________________________________________\n",
      "flatten_4 (Flatten)          (None, 64)                0         \n",
      "_________________________________________________________________\n",
      "dense_4 (Dense)              (None, 6)                 390       \n",
      "=================================================================\n",
      "Total params: 1,310\n",
      "Trainable params: 1,310\n",
      "Non-trainable params: 0\n",
      "_________________________________________________________________\n",
      "\u001b[32mAll tests passed!\u001b[0m\n"
     ]
    }
   ],
   "source": [
    "conv_model = convolutional_model((64, 64, 3))\n",
    "conv_model.compile(optimizer='adam',\n",
    "                  loss='categorical_crossentropy',\n",
    "                  metrics=['accuracy'])\n",
    "conv_model.summary()\n",
    "    \n",
    "output = [['InputLayer', [(None, 64, 64, 3)], 0],\n",
    "        ['Conv2D', (None, 64, 64, 8), 392, 'same', 'linear', 'GlorotUniform'],\n",
    "        ['ReLU', (None, 64, 64, 8), 0],\n",
    "        ['MaxPooling2D', (None, 8, 8, 8), 0, (8, 8), (8, 8), 'same'],\n",
    "        ['Conv2D', (None, 8, 8, 16), 528, 'same', 'linear', 'GlorotUniform'],\n",
    "        ['ReLU', (None, 8, 8, 16), 0],\n",
    "        ['MaxPooling2D', (None, 2, 2, 16), 0, (4, 4), (4, 4), 'same'],\n",
    "        ['Flatten', (None, 64), 0],\n",
    "        ['Dense', (None, 6), 390, 'softmax']]\n",
    "    \n",
    "comparator(summary(conv_model), output)"
   ]
  },
  {
   "cell_type": "markdown",
   "metadata": {},
   "source": [
    "Both the Sequential and Functional APIs return a TF Keras model object. The only difference is how inputs are handled inside the object model! "
   ]
  },
  {
   "cell_type": "markdown",
   "metadata": {},
   "source": [
    "<a name='4-4'></a>\n",
    "### 4.4 - Train the Model"
   ]
  },
  {
   "cell_type": "code",
   "execution_count": 25,
   "metadata": {},
   "outputs": [
    {
     "name": "stdout",
     "output_type": "stream",
     "text": [
      "Epoch 1/100\n",
      "17/17 [==============================] - 2s 104ms/step - loss: 1.8308 - accuracy: 0.1778 - val_loss: 1.7922 - val_accuracy: 0.1667\n",
      "Epoch 2/100\n",
      "17/17 [==============================] - 2s 106ms/step - loss: 1.7880 - accuracy: 0.1861 - val_loss: 1.7865 - val_accuracy: 0.2000\n",
      "Epoch 3/100\n",
      "17/17 [==============================] - 2s 101ms/step - loss: 1.7829 - accuracy: 0.2046 - val_loss: 1.7831 - val_accuracy: 0.2417\n",
      "Epoch 4/100\n",
      "17/17 [==============================] - 2s 106ms/step - loss: 1.7780 - accuracy: 0.2519 - val_loss: 1.7792 - val_accuracy: 0.2833\n",
      "Epoch 5/100\n",
      "17/17 [==============================] - 2s 106ms/step - loss: 1.7734 - accuracy: 0.3065 - val_loss: 1.7751 - val_accuracy: 0.3333\n",
      "Epoch 6/100\n",
      "17/17 [==============================] - 2s 106ms/step - loss: 1.7676 - accuracy: 0.3417 - val_loss: 1.7690 - val_accuracy: 0.3167\n",
      "Epoch 7/100\n",
      "17/17 [==============================] - 2s 107ms/step - loss: 1.7596 - accuracy: 0.3676 - val_loss: 1.7624 - val_accuracy: 0.3583\n",
      "Epoch 8/100\n",
      "17/17 [==============================] - 2s 95ms/step - loss: 1.7488 - accuracy: 0.3731 - val_loss: 1.7512 - val_accuracy: 0.3583\n",
      "Epoch 9/100\n",
      "17/17 [==============================] - 2s 100ms/step - loss: 1.7336 - accuracy: 0.3620 - val_loss: 1.7382 - val_accuracy: 0.3083\n",
      "Epoch 10/100\n",
      "17/17 [==============================] - 2s 106ms/step - loss: 1.7113 - accuracy: 0.4000 - val_loss: 1.7195 - val_accuracy: 0.3500\n",
      "Epoch 11/100\n",
      "17/17 [==============================] - 2s 106ms/step - loss: 1.6835 - accuracy: 0.4213 - val_loss: 1.6955 - val_accuracy: 0.3583\n",
      "Epoch 12/100\n",
      "17/17 [==============================] - 2s 107ms/step - loss: 1.6466 - accuracy: 0.4231 - val_loss: 1.6652 - val_accuracy: 0.3250\n",
      "Epoch 13/100\n",
      "17/17 [==============================] - 2s 102ms/step - loss: 1.6013 - accuracy: 0.4333 - val_loss: 1.6302 - val_accuracy: 0.3333\n",
      "Epoch 14/100\n",
      "17/17 [==============================] - 2s 101ms/step - loss: 1.5536 - accuracy: 0.4574 - val_loss: 1.5923 - val_accuracy: 0.3750\n",
      "Epoch 15/100\n",
      "17/17 [==============================] - 2s 106ms/step - loss: 1.5029 - accuracy: 0.4704 - val_loss: 1.5519 - val_accuracy: 0.3750\n",
      "Epoch 16/100\n",
      "17/17 [==============================] - 2s 101ms/step - loss: 1.4548 - accuracy: 0.4806 - val_loss: 1.5139 - val_accuracy: 0.4083\n",
      "Epoch 17/100\n",
      "17/17 [==============================] - 2s 101ms/step - loss: 1.4093 - accuracy: 0.4963 - val_loss: 1.4763 - val_accuracy: 0.4500\n",
      "Epoch 18/100\n",
      "17/17 [==============================] - 2s 106ms/step - loss: 1.3665 - accuracy: 0.5185 - val_loss: 1.4439 - val_accuracy: 0.4083\n",
      "Epoch 19/100\n",
      "17/17 [==============================] - 2s 107ms/step - loss: 1.3283 - accuracy: 0.5278 - val_loss: 1.4104 - val_accuracy: 0.4333\n",
      "Epoch 20/100\n",
      "17/17 [==============================] - 2s 105ms/step - loss: 1.2929 - accuracy: 0.5519 - val_loss: 1.3802 - val_accuracy: 0.4667\n",
      "Epoch 21/100\n",
      "17/17 [==============================] - 2s 100ms/step - loss: 1.2628 - accuracy: 0.5565 - val_loss: 1.3520 - val_accuracy: 0.4833\n",
      "Epoch 22/100\n",
      "17/17 [==============================] - 2s 101ms/step - loss: 1.2311 - accuracy: 0.5759 - val_loss: 1.3239 - val_accuracy: 0.5083\n",
      "Epoch 23/100\n",
      "17/17 [==============================] - 2s 106ms/step - loss: 1.2035 - accuracy: 0.5907 - val_loss: 1.2968 - val_accuracy: 0.5333\n",
      "Epoch 24/100\n",
      "17/17 [==============================] - 2s 100ms/step - loss: 1.1785 - accuracy: 0.5954 - val_loss: 1.2731 - val_accuracy: 0.5500\n",
      "Epoch 25/100\n",
      "17/17 [==============================] - 2s 106ms/step - loss: 1.1533 - accuracy: 0.6009 - val_loss: 1.2527 - val_accuracy: 0.5417\n",
      "Epoch 26/100\n",
      "17/17 [==============================] - 2s 106ms/step - loss: 1.1289 - accuracy: 0.6139 - val_loss: 1.2305 - val_accuracy: 0.5583\n",
      "Epoch 27/100\n",
      "17/17 [==============================] - 2s 106ms/step - loss: 1.1072 - accuracy: 0.6269 - val_loss: 1.2101 - val_accuracy: 0.5500\n",
      "Epoch 28/100\n",
      "17/17 [==============================] - 2s 111ms/step - loss: 1.0882 - accuracy: 0.6361 - val_loss: 1.1898 - val_accuracy: 0.5667\n",
      "Epoch 29/100\n",
      "17/17 [==============================] - 2s 106ms/step - loss: 1.0670 - accuracy: 0.6481 - val_loss: 1.1721 - val_accuracy: 0.5750\n",
      "Epoch 30/100\n",
      "17/17 [==============================] - 2s 111ms/step - loss: 1.0464 - accuracy: 0.6537 - val_loss: 1.1522 - val_accuracy: 0.5750\n",
      "Epoch 31/100\n",
      "17/17 [==============================] - 2s 100ms/step - loss: 1.0285 - accuracy: 0.6556 - val_loss: 1.1348 - val_accuracy: 0.5750\n",
      "Epoch 32/100\n",
      "17/17 [==============================] - 2s 100ms/step - loss: 1.0101 - accuracy: 0.6685 - val_loss: 1.1188 - val_accuracy: 0.5833\n",
      "Epoch 33/100\n",
      "17/17 [==============================] - 2s 106ms/step - loss: 0.9914 - accuracy: 0.6787 - val_loss: 1.1013 - val_accuracy: 0.6083\n",
      "Epoch 34/100\n",
      "17/17 [==============================] - 2s 101ms/step - loss: 0.9756 - accuracy: 0.6843 - val_loss: 1.0864 - val_accuracy: 0.6083\n",
      "Epoch 35/100\n",
      "17/17 [==============================] - 2s 100ms/step - loss: 0.9589 - accuracy: 0.6880 - val_loss: 1.0712 - val_accuracy: 0.6167\n",
      "Epoch 36/100\n",
      "17/17 [==============================] - 2s 101ms/step - loss: 0.9429 - accuracy: 0.6917 - val_loss: 1.0549 - val_accuracy: 0.6083\n",
      "Epoch 37/100\n",
      "17/17 [==============================] - 2s 101ms/step - loss: 0.9281 - accuracy: 0.6963 - val_loss: 1.0396 - val_accuracy: 0.6167\n",
      "Epoch 38/100\n",
      "17/17 [==============================] - 2s 107ms/step - loss: 0.9138 - accuracy: 0.6963 - val_loss: 1.0260 - val_accuracy: 0.6167\n",
      "Epoch 39/100\n",
      "17/17 [==============================] - 2s 100ms/step - loss: 0.8991 - accuracy: 0.7065 - val_loss: 1.0093 - val_accuracy: 0.6167\n",
      "Epoch 40/100\n",
      "17/17 [==============================] - 2s 100ms/step - loss: 0.8857 - accuracy: 0.7130 - val_loss: 0.9954 - val_accuracy: 0.6167\n",
      "Epoch 41/100\n",
      "17/17 [==============================] - 2s 106ms/step - loss: 0.8716 - accuracy: 0.7148 - val_loss: 0.9805 - val_accuracy: 0.6167\n",
      "Epoch 42/100\n",
      "17/17 [==============================] - 2s 111ms/step - loss: 0.8588 - accuracy: 0.7222 - val_loss: 0.9661 - val_accuracy: 0.6167\n",
      "Epoch 43/100\n",
      "17/17 [==============================] - 2s 106ms/step - loss: 0.8466 - accuracy: 0.7222 - val_loss: 0.9530 - val_accuracy: 0.6083\n",
      "Epoch 44/100\n",
      "17/17 [==============================] - 2s 106ms/step - loss: 0.8341 - accuracy: 0.7259 - val_loss: 0.9400 - val_accuracy: 0.6250\n",
      "Epoch 45/100\n",
      "17/17 [==============================] - 2s 101ms/step - loss: 0.8227 - accuracy: 0.7306 - val_loss: 0.9276 - val_accuracy: 0.6250\n",
      "Epoch 46/100\n",
      "17/17 [==============================] - 2s 106ms/step - loss: 0.8109 - accuracy: 0.7343 - val_loss: 0.9145 - val_accuracy: 0.6333\n",
      "Epoch 47/100\n",
      "17/17 [==============================] - 2s 100ms/step - loss: 0.7993 - accuracy: 0.7389 - val_loss: 0.9036 - val_accuracy: 0.6583\n",
      "Epoch 48/100\n",
      "17/17 [==============================] - 2s 95ms/step - loss: 0.7882 - accuracy: 0.7491 - val_loss: 0.8915 - val_accuracy: 0.6667\n",
      "Epoch 49/100\n",
      "17/17 [==============================] - 2s 100ms/step - loss: 0.7781 - accuracy: 0.7583 - val_loss: 0.8797 - val_accuracy: 0.6667\n",
      "Epoch 50/100\n",
      "17/17 [==============================] - 2s 101ms/step - loss: 0.7677 - accuracy: 0.7648 - val_loss: 0.8690 - val_accuracy: 0.6833\n",
      "Epoch 51/100\n",
      "17/17 [==============================] - 2s 106ms/step - loss: 0.7578 - accuracy: 0.7713 - val_loss: 0.8581 - val_accuracy: 0.6833\n",
      "Epoch 52/100\n",
      "17/17 [==============================] - 2s 106ms/step - loss: 0.7477 - accuracy: 0.7741 - val_loss: 0.8486 - val_accuracy: 0.6833\n",
      "Epoch 53/100\n",
      "17/17 [==============================] - 2s 102ms/step - loss: 0.7378 - accuracy: 0.7796 - val_loss: 0.8384 - val_accuracy: 0.6750\n",
      "Epoch 54/100\n",
      "17/17 [==============================] - 2s 106ms/step - loss: 0.7291 - accuracy: 0.7852 - val_loss: 0.8284 - val_accuracy: 0.6750\n",
      "Epoch 55/100\n",
      "17/17 [==============================] - 2s 100ms/step - loss: 0.7197 - accuracy: 0.7870 - val_loss: 0.8189 - val_accuracy: 0.6750\n",
      "Epoch 56/100\n",
      "17/17 [==============================] - 2s 100ms/step - loss: 0.7109 - accuracy: 0.7907 - val_loss: 0.8096 - val_accuracy: 0.6833\n",
      "Epoch 57/100\n",
      "17/17 [==============================] - 2s 111ms/step - loss: 0.7020 - accuracy: 0.7972 - val_loss: 0.8006 - val_accuracy: 0.6917\n",
      "Epoch 58/100\n",
      "17/17 [==============================] - 2s 106ms/step - loss: 0.6935 - accuracy: 0.8019 - val_loss: 0.7918 - val_accuracy: 0.6917\n",
      "Epoch 59/100\n",
      "17/17 [==============================] - 2s 105ms/step - loss: 0.6852 - accuracy: 0.8065 - val_loss: 0.7830 - val_accuracy: 0.6833\n",
      "Epoch 60/100\n",
      "17/17 [==============================] - 2s 106ms/step - loss: 0.6773 - accuracy: 0.8056 - val_loss: 0.7745 - val_accuracy: 0.6750\n",
      "Epoch 61/100\n",
      "17/17 [==============================] - 2s 106ms/step - loss: 0.6693 - accuracy: 0.8111 - val_loss: 0.7658 - val_accuracy: 0.6917\n",
      "Epoch 62/100\n",
      "17/17 [==============================] - 2s 106ms/step - loss: 0.6621 - accuracy: 0.8139 - val_loss: 0.7570 - val_accuracy: 0.6917\n",
      "Epoch 63/100\n",
      "17/17 [==============================] - 2s 100ms/step - loss: 0.6545 - accuracy: 0.8176 - val_loss: 0.7487 - val_accuracy: 0.6917\n",
      "Epoch 64/100\n",
      "17/17 [==============================] - 2s 106ms/step - loss: 0.6471 - accuracy: 0.8222 - val_loss: 0.7410 - val_accuracy: 0.6917\n",
      "Epoch 65/100\n",
      "17/17 [==============================] - 2s 107ms/step - loss: 0.6402 - accuracy: 0.8231 - val_loss: 0.7334 - val_accuracy: 0.7083\n",
      "Epoch 66/100\n",
      "17/17 [==============================] - 2s 101ms/step - loss: 0.6332 - accuracy: 0.8213 - val_loss: 0.7255 - val_accuracy: 0.7167\n",
      "Epoch 67/100\n",
      "17/17 [==============================] - 2s 106ms/step - loss: 0.6261 - accuracy: 0.8213 - val_loss: 0.7182 - val_accuracy: 0.7167\n",
      "Epoch 68/100\n",
      "17/17 [==============================] - 2s 112ms/step - loss: 0.6188 - accuracy: 0.8250 - val_loss: 0.7116 - val_accuracy: 0.7167\n",
      "Epoch 69/100\n",
      "17/17 [==============================] - 2s 107ms/step - loss: 0.6123 - accuracy: 0.8287 - val_loss: 0.7054 - val_accuracy: 0.7167\n",
      "Epoch 70/100\n",
      "17/17 [==============================] - 2s 101ms/step - loss: 0.6061 - accuracy: 0.8306 - val_loss: 0.6991 - val_accuracy: 0.7167\n",
      "Epoch 71/100\n",
      "17/17 [==============================] - 2s 100ms/step - loss: 0.5996 - accuracy: 0.8343 - val_loss: 0.6928 - val_accuracy: 0.7250\n",
      "Epoch 72/100\n",
      "17/17 [==============================] - 2s 106ms/step - loss: 0.5934 - accuracy: 0.8352 - val_loss: 0.6878 - val_accuracy: 0.7500\n",
      "Epoch 73/100\n",
      "17/17 [==============================] - 2s 105ms/step - loss: 0.5881 - accuracy: 0.8361 - val_loss: 0.6822 - val_accuracy: 0.7417\n",
      "Epoch 74/100\n",
      "17/17 [==============================] - 2s 106ms/step - loss: 0.5820 - accuracy: 0.8380 - val_loss: 0.6769 - val_accuracy: 0.7583\n",
      "Epoch 75/100\n",
      "17/17 [==============================] - 2s 106ms/step - loss: 0.5766 - accuracy: 0.8407 - val_loss: 0.6715 - val_accuracy: 0.7583\n",
      "Epoch 76/100\n",
      "17/17 [==============================] - 2s 106ms/step - loss: 0.5707 - accuracy: 0.8426 - val_loss: 0.6659 - val_accuracy: 0.7583\n",
      "Epoch 77/100\n",
      "17/17 [==============================] - 2s 106ms/step - loss: 0.5649 - accuracy: 0.8435 - val_loss: 0.6607 - val_accuracy: 0.7583\n",
      "Epoch 78/100\n",
      "17/17 [==============================] - 2s 100ms/step - loss: 0.5595 - accuracy: 0.8454 - val_loss: 0.6555 - val_accuracy: 0.7583\n",
      "Epoch 79/100\n",
      "17/17 [==============================] - 2s 99ms/step - loss: 0.5540 - accuracy: 0.8463 - val_loss: 0.6502 - val_accuracy: 0.7500\n",
      "Epoch 80/100\n",
      "17/17 [==============================] - 2s 107ms/step - loss: 0.5489 - accuracy: 0.8463 - val_loss: 0.6459 - val_accuracy: 0.7583\n",
      "Epoch 81/100\n",
      "17/17 [==============================] - 2s 106ms/step - loss: 0.5444 - accuracy: 0.8500 - val_loss: 0.6400 - val_accuracy: 0.7500\n",
      "Epoch 82/100\n",
      "17/17 [==============================] - 2s 106ms/step - loss: 0.5390 - accuracy: 0.8491 - val_loss: 0.6366 - val_accuracy: 0.7667\n",
      "Epoch 83/100\n",
      "17/17 [==============================] - 2s 107ms/step - loss: 0.5345 - accuracy: 0.8519 - val_loss: 0.6303 - val_accuracy: 0.7583\n",
      "Epoch 84/100\n",
      "17/17 [==============================] - 2s 101ms/step - loss: 0.5295 - accuracy: 0.8556 - val_loss: 0.6259 - val_accuracy: 0.7750\n",
      "Epoch 85/100\n",
      "17/17 [==============================] - 2s 106ms/step - loss: 0.5244 - accuracy: 0.8556 - val_loss: 0.6214 - val_accuracy: 0.7833\n",
      "Epoch 86/100\n",
      "17/17 [==============================] - 2s 100ms/step - loss: 0.5188 - accuracy: 0.8574 - val_loss: 0.6172 - val_accuracy: 0.7917\n",
      "Epoch 87/100\n",
      "17/17 [==============================] - 2s 100ms/step - loss: 0.5141 - accuracy: 0.8565 - val_loss: 0.6125 - val_accuracy: 0.7917\n",
      "Epoch 88/100\n",
      "17/17 [==============================] - 2s 106ms/step - loss: 0.5097 - accuracy: 0.8565 - val_loss: 0.6079 - val_accuracy: 0.7917\n",
      "Epoch 89/100\n",
      "17/17 [==============================] - 2s 107ms/step - loss: 0.5049 - accuracy: 0.8583 - val_loss: 0.6040 - val_accuracy: 0.7917\n",
      "Epoch 90/100\n",
      "17/17 [==============================] - 2s 100ms/step - loss: 0.5004 - accuracy: 0.8593 - val_loss: 0.6003 - val_accuracy: 0.7917\n",
      "Epoch 91/100\n",
      "17/17 [==============================] - 2s 100ms/step - loss: 0.4964 - accuracy: 0.8593 - val_loss: 0.5967 - val_accuracy: 0.8000\n",
      "Epoch 92/100\n",
      "17/17 [==============================] - 2s 100ms/step - loss: 0.4921 - accuracy: 0.8583 - val_loss: 0.5925 - val_accuracy: 0.8000\n",
      "Epoch 93/100\n",
      "17/17 [==============================] - 2s 106ms/step - loss: 0.4880 - accuracy: 0.8602 - val_loss: 0.5895 - val_accuracy: 0.8000\n",
      "Epoch 94/100\n",
      "17/17 [==============================] - 2s 100ms/step - loss: 0.4840 - accuracy: 0.8602 - val_loss: 0.5854 - val_accuracy: 0.8167\n",
      "Epoch 95/100\n",
      "17/17 [==============================] - 2s 95ms/step - loss: 0.4795 - accuracy: 0.8611 - val_loss: 0.5822 - val_accuracy: 0.8167\n",
      "Epoch 96/100\n",
      "17/17 [==============================] - 2s 107ms/step - loss: 0.4758 - accuracy: 0.8657 - val_loss: 0.5789 - val_accuracy: 0.8167\n",
      "Epoch 97/100\n",
      "17/17 [==============================] - 2s 100ms/step - loss: 0.4723 - accuracy: 0.8657 - val_loss: 0.5755 - val_accuracy: 0.8167\n",
      "Epoch 98/100\n",
      "17/17 [==============================] - 2s 100ms/step - loss: 0.4682 - accuracy: 0.8657 - val_loss: 0.5719 - val_accuracy: 0.8167\n",
      "Epoch 99/100\n",
      "17/17 [==============================] - 2s 101ms/step - loss: 0.4644 - accuracy: 0.8667 - val_loss: 0.5690 - val_accuracy: 0.8167\n",
      "Epoch 100/100\n",
      "17/17 [==============================] - 2s 106ms/step - loss: 0.4611 - accuracy: 0.8676 - val_loss: 0.5659 - val_accuracy: 0.8167\n"
     ]
    }
   ],
   "source": [
    "train_dataset = tf.data.Dataset.from_tensor_slices((X_train, Y_train)).batch(64)\n",
    "test_dataset = tf.data.Dataset.from_tensor_slices((X_test, Y_test)).batch(64)\n",
    "history = conv_model.fit(train_dataset, epochs=100, validation_data=test_dataset)"
   ]
  },
  {
   "cell_type": "markdown",
   "metadata": {},
   "source": [
    "<a name='5'></a>\n",
    "## 5 - History Object \n",
    "\n",
    "The history object is an output of the `.fit()` operation, and provides a record of all the loss and metric values in memory. It's stored as a dictionary that you can retrieve at `history.history`: "
   ]
  },
  {
   "cell_type": "code",
   "execution_count": 26,
   "metadata": {},
   "outputs": [
    {
     "data": {
      "text/plain": [
       "{'loss': [1.830776333808899,\n",
       "  1.788000226020813,\n",
       "  1.7828526496887207,\n",
       "  1.778039574623108,\n",
       "  1.7734302282333374,\n",
       "  1.767598032951355,\n",
       "  1.7595598697662354,\n",
       "  1.7488375902175903,\n",
       "  1.733610987663269,\n",
       "  1.7113490104675293,\n",
       "  1.683546543121338,\n",
       "  1.6465638875961304,\n",
       "  1.6013106107711792,\n",
       "  1.5536121129989624,\n",
       "  1.5028817653656006,\n",
       "  1.4547500610351562,\n",
       "  1.4092782735824585,\n",
       "  1.3664945363998413,\n",
       "  1.3282629251480103,\n",
       "  1.2929095029830933,\n",
       "  1.2627553939819336,\n",
       "  1.2310905456542969,\n",
       "  1.2035067081451416,\n",
       "  1.1785032749176025,\n",
       "  1.1533132791519165,\n",
       "  1.1289222240447998,\n",
       "  1.1072410345077515,\n",
       "  1.0882060527801514,\n",
       "  1.067036509513855,\n",
       "  1.0464235544204712,\n",
       "  1.0285054445266724,\n",
       "  1.0101356506347656,\n",
       "  0.9914277195930481,\n",
       "  0.9756079912185669,\n",
       "  0.9589031338691711,\n",
       "  0.9428912401199341,\n",
       "  0.9281111359596252,\n",
       "  0.9137753248214722,\n",
       "  0.8990756273269653,\n",
       "  0.885729968547821,\n",
       "  0.87160724401474,\n",
       "  0.8588287234306335,\n",
       "  0.8465574979782104,\n",
       "  0.8340806365013123,\n",
       "  0.8227445483207703,\n",
       "  0.8109006285667419,\n",
       "  0.799334704875946,\n",
       "  0.7881746292114258,\n",
       "  0.7780954837799072,\n",
       "  0.7677230834960938,\n",
       "  0.7578195333480835,\n",
       "  0.7477341890335083,\n",
       "  0.7378047108650208,\n",
       "  0.7290553450584412,\n",
       "  0.7197171449661255,\n",
       "  0.7108597159385681,\n",
       "  0.7019984722137451,\n",
       "  0.6935081481933594,\n",
       "  0.685245156288147,\n",
       "  0.6773443222045898,\n",
       "  0.6692978143692017,\n",
       "  0.662132203578949,\n",
       "  0.6545352339744568,\n",
       "  0.6471351385116577,\n",
       "  0.6402218341827393,\n",
       "  0.6331986784934998,\n",
       "  0.6261054277420044,\n",
       "  0.6188179850578308,\n",
       "  0.6122950911521912,\n",
       "  0.6061398983001709,\n",
       "  0.599586546421051,\n",
       "  0.5934208035469055,\n",
       "  0.5880686640739441,\n",
       "  0.5820246338844299,\n",
       "  0.5765895247459412,\n",
       "  0.5707244277000427,\n",
       "  0.5649118423461914,\n",
       "  0.5594823956489563,\n",
       "  0.5540290474891663,\n",
       "  0.5489299297332764,\n",
       "  0.5443874597549438,\n",
       "  0.5389806032180786,\n",
       "  0.5344839096069336,\n",
       "  0.5294857025146484,\n",
       "  0.5244331359863281,\n",
       "  0.5188208818435669,\n",
       "  0.5141005516052246,\n",
       "  0.5097070336341858,\n",
       "  0.5048785209655762,\n",
       "  0.500374972820282,\n",
       "  0.49642616510391235,\n",
       "  0.49210402369499207,\n",
       "  0.4879878759384155,\n",
       "  0.48400285840034485,\n",
       "  0.479500949382782,\n",
       "  0.47578588128089905,\n",
       "  0.4722788631916046,\n",
       "  0.4681745171546936,\n",
       "  0.46444275975227356,\n",
       "  0.46109527349472046],\n",
       " 'accuracy': [0.17777778208255768,\n",
       "  0.18611110746860504,\n",
       "  0.20462962985038757,\n",
       "  0.2518518567085266,\n",
       "  0.3064814805984497,\n",
       "  0.34166666865348816,\n",
       "  0.36759260296821594,\n",
       "  0.3731481432914734,\n",
       "  0.3620370328426361,\n",
       "  0.4000000059604645,\n",
       "  0.42129629850387573,\n",
       "  0.42314815521240234,\n",
       "  0.4333333373069763,\n",
       "  0.4574074149131775,\n",
       "  0.4703703820705414,\n",
       "  0.48055556416511536,\n",
       "  0.4962962865829468,\n",
       "  0.5185185074806213,\n",
       "  0.5277777910232544,\n",
       "  0.5518518686294556,\n",
       "  0.5564814805984497,\n",
       "  0.5759259462356567,\n",
       "  0.5907407402992249,\n",
       "  0.595370352268219,\n",
       "  0.6009259223937988,\n",
       "  0.6138888597488403,\n",
       "  0.6268518567085266,\n",
       "  0.6361111402511597,\n",
       "  0.6481481194496155,\n",
       "  0.6537036895751953,\n",
       "  0.6555555462837219,\n",
       "  0.6685185432434082,\n",
       "  0.6787037253379822,\n",
       "  0.6842592358589172,\n",
       "  0.6879629492759705,\n",
       "  0.6916666626930237,\n",
       "  0.6962962746620178,\n",
       "  0.6962962746620178,\n",
       "  0.7064814567565918,\n",
       "  0.7129629850387573,\n",
       "  0.7148148417472839,\n",
       "  0.7222222089767456,\n",
       "  0.7222222089767456,\n",
       "  0.7259259223937988,\n",
       "  0.730555534362793,\n",
       "  0.7342592477798462,\n",
       "  0.7388888597488403,\n",
       "  0.7490741014480591,\n",
       "  0.7583333253860474,\n",
       "  0.7648147940635681,\n",
       "  0.7712963223457336,\n",
       "  0.7740740776062012,\n",
       "  0.779629647731781,\n",
       "  0.7851851582527161,\n",
       "  0.7870370149612427,\n",
       "  0.7907407283782959,\n",
       "  0.7972221970558167,\n",
       "  0.8018518686294556,\n",
       "  0.8064814805984497,\n",
       "  0.8055555820465088,\n",
       "  0.8111110925674438,\n",
       "  0.8138889074325562,\n",
       "  0.8175926208496094,\n",
       "  0.8222222328186035,\n",
       "  0.8231481313705444,\n",
       "  0.8212962746620178,\n",
       "  0.8212962746620178,\n",
       "  0.824999988079071,\n",
       "  0.8287037014961243,\n",
       "  0.8305555582046509,\n",
       "  0.8342592716217041,\n",
       "  0.835185170173645,\n",
       "  0.8361111283302307,\n",
       "  0.8379629850387573,\n",
       "  0.8407407402992249,\n",
       "  0.8425925970077515,\n",
       "  0.8435184955596924,\n",
       "  0.845370352268219,\n",
       "  0.8462963104248047,\n",
       "  0.8462963104248047,\n",
       "  0.8500000238418579,\n",
       "  0.8490740656852722,\n",
       "  0.8518518805503845,\n",
       "  0.855555534362793,\n",
       "  0.855555534362793,\n",
       "  0.8574073910713196,\n",
       "  0.8564814925193787,\n",
       "  0.8564814925193787,\n",
       "  0.8583333492279053,\n",
       "  0.8592592477798462,\n",
       "  0.8592592477798462,\n",
       "  0.8583333492279053,\n",
       "  0.8601852059364319,\n",
       "  0.8601852059364319,\n",
       "  0.8611111044883728,\n",
       "  0.8657407164573669,\n",
       "  0.8657407164573669,\n",
       "  0.8657407164573669,\n",
       "  0.8666666746139526,\n",
       "  0.8675925731658936],\n",
       " 'val_loss': [1.7922157049179077,\n",
       "  1.786529541015625,\n",
       "  1.7830780744552612,\n",
       "  1.7792179584503174,\n",
       "  1.7750728130340576,\n",
       "  1.7690160274505615,\n",
       "  1.7623803615570068,\n",
       "  1.751226782798767,\n",
       "  1.738157033920288,\n",
       "  1.719452977180481,\n",
       "  1.6954501867294312,\n",
       "  1.6652108430862427,\n",
       "  1.6302236318588257,\n",
       "  1.5922878980636597,\n",
       "  1.5518897771835327,\n",
       "  1.5138689279556274,\n",
       "  1.4763009548187256,\n",
       "  1.4439187049865723,\n",
       "  1.4104400873184204,\n",
       "  1.3801844120025635,\n",
       "  1.351968765258789,\n",
       "  1.3239076137542725,\n",
       "  1.2967783212661743,\n",
       "  1.2731115818023682,\n",
       "  1.252670407295227,\n",
       "  1.2305392026901245,\n",
       "  1.210131049156189,\n",
       "  1.189769983291626,\n",
       "  1.172098994255066,\n",
       "  1.1522250175476074,\n",
       "  1.134808897972107,\n",
       "  1.1188105344772339,\n",
       "  1.1012914180755615,\n",
       "  1.086414098739624,\n",
       "  1.071215033531189,\n",
       "  1.054863452911377,\n",
       "  1.0396265983581543,\n",
       "  1.0259743928909302,\n",
       "  1.009323000907898,\n",
       "  0.9953776001930237,\n",
       "  0.9805250763893127,\n",
       "  0.966103196144104,\n",
       "  0.9529767632484436,\n",
       "  0.9399774074554443,\n",
       "  0.9276368618011475,\n",
       "  0.914510190486908,\n",
       "  0.9036052227020264,\n",
       "  0.8914707899093628,\n",
       "  0.8797213435173035,\n",
       "  0.8689655065536499,\n",
       "  0.8581433892250061,\n",
       "  0.8486130833625793,\n",
       "  0.8383670449256897,\n",
       "  0.8284189701080322,\n",
       "  0.8189313411712646,\n",
       "  0.8095548152923584,\n",
       "  0.8006475567817688,\n",
       "  0.7917855978012085,\n",
       "  0.7830387353897095,\n",
       "  0.7744568586349487,\n",
       "  0.7657720446586609,\n",
       "  0.7569629549980164,\n",
       "  0.7487329244613647,\n",
       "  0.740980327129364,\n",
       "  0.7333917021751404,\n",
       "  0.7254500985145569,\n",
       "  0.7181758284568787,\n",
       "  0.7116451263427734,\n",
       "  0.7053841948509216,\n",
       "  0.6991389989852905,\n",
       "  0.6928170919418335,\n",
       "  0.6878235936164856,\n",
       "  0.6821982860565186,\n",
       "  0.6768766045570374,\n",
       "  0.671521782875061,\n",
       "  0.6658729314804077,\n",
       "  0.6606520414352417,\n",
       "  0.6554575562477112,\n",
       "  0.650188148021698,\n",
       "  0.6458620429039001,\n",
       "  0.6399767398834229,\n",
       "  0.6365602612495422,\n",
       "  0.6303258538246155,\n",
       "  0.6259432435035706,\n",
       "  0.6213697791099548,\n",
       "  0.6171897053718567,\n",
       "  0.6124853491783142,\n",
       "  0.6078534722328186,\n",
       "  0.6040288209915161,\n",
       "  0.6002541780471802,\n",
       "  0.5966514348983765,\n",
       "  0.5924965143203735,\n",
       "  0.5894943475723267,\n",
       "  0.5853623747825623,\n",
       "  0.5821674466133118,\n",
       "  0.578868567943573,\n",
       "  0.5754538178443909,\n",
       "  0.5718919038772583,\n",
       "  0.5690224766731262,\n",
       "  0.5658504366874695],\n",
       " 'val_accuracy': [0.1666666716337204,\n",
       "  0.20000000298023224,\n",
       "  0.24166665971279144,\n",
       "  0.28333333134651184,\n",
       "  0.3333333432674408,\n",
       "  0.3166666626930237,\n",
       "  0.3583333194255829,\n",
       "  0.3583333194255829,\n",
       "  0.3083333373069763,\n",
       "  0.3499999940395355,\n",
       "  0.3583333194255829,\n",
       "  0.32499998807907104,\n",
       "  0.3333333432674408,\n",
       "  0.375,\n",
       "  0.375,\n",
       "  0.40833333134651184,\n",
       "  0.44999998807907104,\n",
       "  0.40833333134651184,\n",
       "  0.4333333373069763,\n",
       "  0.46666666865348816,\n",
       "  0.4833333194255829,\n",
       "  0.5083333253860474,\n",
       "  0.5333333611488342,\n",
       "  0.550000011920929,\n",
       "  0.5416666865348816,\n",
       "  0.5583333373069763,\n",
       "  0.550000011920929,\n",
       "  0.5666666626930237,\n",
       "  0.574999988079071,\n",
       "  0.574999988079071,\n",
       "  0.574999988079071,\n",
       "  0.5833333134651184,\n",
       "  0.6083333492279053,\n",
       "  0.6083333492279053,\n",
       "  0.6166666746139526,\n",
       "  0.6083333492279053,\n",
       "  0.6166666746139526,\n",
       "  0.6166666746139526,\n",
       "  0.6166666746139526,\n",
       "  0.6166666746139526,\n",
       "  0.6166666746139526,\n",
       "  0.6166666746139526,\n",
       "  0.6083333492279053,\n",
       "  0.625,\n",
       "  0.625,\n",
       "  0.6333333253860474,\n",
       "  0.6583333611488342,\n",
       "  0.6666666865348816,\n",
       "  0.6666666865348816,\n",
       "  0.6833333373069763,\n",
       "  0.6833333373069763,\n",
       "  0.6833333373069763,\n",
       "  0.675000011920929,\n",
       "  0.675000011920929,\n",
       "  0.675000011920929,\n",
       "  0.6833333373069763,\n",
       "  0.6916666626930237,\n",
       "  0.6916666626930237,\n",
       "  0.6833333373069763,\n",
       "  0.675000011920929,\n",
       "  0.6916666626930237,\n",
       "  0.6916666626930237,\n",
       "  0.6916666626930237,\n",
       "  0.6916666626930237,\n",
       "  0.7083333134651184,\n",
       "  0.7166666388511658,\n",
       "  0.7166666388511658,\n",
       "  0.7166666388511658,\n",
       "  0.7166666388511658,\n",
       "  0.7166666388511658,\n",
       "  0.7250000238418579,\n",
       "  0.75,\n",
       "  0.7416666746139526,\n",
       "  0.7583333253860474,\n",
       "  0.7583333253860474,\n",
       "  0.7583333253860474,\n",
       "  0.7583333253860474,\n",
       "  0.7583333253860474,\n",
       "  0.75,\n",
       "  0.7583333253860474,\n",
       "  0.75,\n",
       "  0.7666666507720947,\n",
       "  0.7583333253860474,\n",
       "  0.7749999761581421,\n",
       "  0.7833333611488342,\n",
       "  0.7916666865348816,\n",
       "  0.7916666865348816,\n",
       "  0.7916666865348816,\n",
       "  0.7916666865348816,\n",
       "  0.7916666865348816,\n",
       "  0.800000011920929,\n",
       "  0.800000011920929,\n",
       "  0.800000011920929,\n",
       "  0.8166666626930237,\n",
       "  0.8166666626930237,\n",
       "  0.8166666626930237,\n",
       "  0.8166666626930237,\n",
       "  0.8166666626930237,\n",
       "  0.8166666626930237,\n",
       "  0.8166666626930237]}"
      ]
     },
     "execution_count": 26,
     "metadata": {},
     "output_type": "execute_result"
    }
   ],
   "source": [
    "history.history"
   ]
  },
  {
   "cell_type": "markdown",
   "metadata": {},
   "source": [
    "Now visualize the loss over time using `history.history`: "
   ]
  },
  {
   "cell_type": "code",
   "execution_count": 27,
   "metadata": {},
   "outputs": [
    {
     "data": {
      "text/plain": [
       "[Text(0, 0.5, 'Accuracy'), Text(0.5, 0, 'Epoch')]"
      ]
     },
     "execution_count": 27,
     "metadata": {},
     "output_type": "execute_result"
    },
    {
     "data": {
      "image/png": "[encoded data removed]",
      "text/plain": [
       "<Figure size 864x576 with 1 Axes>"
      ]
     },
     "metadata": {
      "needs_background": "light"
     },
     "output_type": "display_data"
    },
    {
     "data": {
      "image/png": "[encoded data removed]",
      "text/plain": [
       "<Figure size 864x576 with 1 Axes>"
      ]
     },
     "metadata": {
      "needs_background": "light"
     },
     "output_type": "display_data"
    }
   ],
   "source": [
    "# The history.history[\"loss\"] entry is a dictionary with as many values as epochs that the\n",
    "# model was trained on. \n",
    "df_loss_acc = pd.DataFrame(history.history)\n",
    "df_loss= df_loss_acc[['loss','val_loss']]\n",
    "df_loss.rename(columns={'loss':'train','val_loss':'validation'},inplace=True)\n",
    "df_acc= df_loss_acc[['accuracy','val_accuracy']]\n",
    "df_acc.rename(columns={'accuracy':'train','val_accuracy':'validation'},inplace=True)\n",
    "df_loss.plot(title='Model loss',figsize=(12,8)).set(xlabel='Epoch',ylabel='Loss')\n",
    "df_acc.plot(title='Model Accuracy',figsize=(12,8)).set(xlabel='Epoch',ylabel='Accuracy')"
   ]
  },
  {
   "cell_type": "markdown",
   "metadata": {},
   "source": [
    "**Congratulations**! You've finished the assignment and built two models: One that recognizes  smiles, and another that recognizes SIGN language with almost 80% accuracy on the test set. In addition to that, you now also understand the applications of two Keras APIs: Sequential and Functional. Nicely done! \n",
    "\n",
    "By now, you know a bit about how the Functional API works and may have glimpsed the possibilities. In your next assignment, you'll really get a feel for its power when you get the opportunity to build a very deep ConvNet, using ResNets! "
   ]
  },
  {
   "cell_type": "markdown",
   "metadata": {},
   "source": [
    "<a name='6'></a>\n",
    "## 6 - Bibliography\n",
    "\n",
    "You're always encouraged to read the official documentation. To that end, you can find the docs for the Sequential and Functional APIs here: \n",
    "\n",
    "https://www.tensorflow.org/guide/keras/sequential_model\n",
    "\n",
    "https://www.tensorflow.org/guide/keras/functional"
   ]
  }
 ],
 "metadata": {
  "coursera": {
   "course_slug": "convolutional-neural-networks",
   "graded_item_id": "bwbJV",
   "launcher_item_id": "0TkXB"
  },
  "kernelspec": {
   "display_name": "Python 3",
   "language": "python",
   "name": "python3"
  },
  "language_info": {
   "codemirror_mode": {
    "name": "ipython",
    "version": 3
   },
   "file_extension": ".py",
   "mimetype": "text/x-python",
   "name": "python",
   "nbconvert_exporter": "python",
   "pygments_lexer": "ipython3",
   "version": "3.7.6"
  }
 },
 "nbformat": 4,
 "nbformat_minor": 2
}
